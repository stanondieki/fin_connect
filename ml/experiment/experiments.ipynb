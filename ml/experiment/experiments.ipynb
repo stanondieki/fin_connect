{
 "cells": [
  {
   "cell_type": "code",
   "execution_count": 1,
   "metadata": {},
   "outputs": [],
   "source": [
    "import pandas as pd \n",
    "import numpy as np\n",
    "import matplotlib.pyplot as plt\n",
    "import seaborn as sns\n",
    "from sklearn.model_selection import train_test_split\n",
    "from sklearn.linear_model import LinearRegression\n",
    "from sklearn.metrics import mean_squared_error, r2_score\n",
    "from sklearn.preprocessing import StandardScaler\n",
    "from sklearn.preprocessing import OneHotEncoder\n",
    "from sklearn.compose import ColumnTransformer\n"
   ]
  },
  {
   "cell_type": "code",
   "execution_count": 2,
   "metadata": {},
   "outputs": [
    {
     "data": {
      "text/html": [
       "<div>\n",
       "<style scoped>\n",
       "    .dataframe tbody tr th:only-of-type {\n",
       "        vertical-align: middle;\n",
       "    }\n",
       "\n",
       "    .dataframe tbody tr th {\n",
       "        vertical-align: top;\n",
       "    }\n",
       "\n",
       "    .dataframe thead th {\n",
       "        text-align: right;\n",
       "    }\n",
       "</style>\n",
       "<table border=\"1\" class=\"dataframe\">\n",
       "  <thead>\n",
       "    <tr style=\"text-align: right;\">\n",
       "      <th></th>\n",
       "      <th>gender</th>\n",
       "      <th>age</th>\n",
       "      <th>Investment_Avenues</th>\n",
       "      <th>Mutual_Funds</th>\n",
       "      <th>Equity_Market</th>\n",
       "      <th>Debentures</th>\n",
       "      <th>Government_Bonds</th>\n",
       "      <th>Fixed_Deposits</th>\n",
       "      <th>PPF</th>\n",
       "      <th>Gold</th>\n",
       "      <th>...</th>\n",
       "      <th>Duration</th>\n",
       "      <th>Invest_Monitor</th>\n",
       "      <th>Expect</th>\n",
       "      <th>Avenue</th>\n",
       "      <th>What are your savings objectives?</th>\n",
       "      <th>Reason_Equity</th>\n",
       "      <th>Reason_Mutual</th>\n",
       "      <th>Reason_Bonds</th>\n",
       "      <th>Reason_FD</th>\n",
       "      <th>Source</th>\n",
       "    </tr>\n",
       "  </thead>\n",
       "  <tbody>\n",
       "    <tr>\n",
       "      <th>0</th>\n",
       "      <td>Female</td>\n",
       "      <td>34</td>\n",
       "      <td>Yes</td>\n",
       "      <td>1</td>\n",
       "      <td>2</td>\n",
       "      <td>5</td>\n",
       "      <td>3</td>\n",
       "      <td>7</td>\n",
       "      <td>6</td>\n",
       "      <td>4</td>\n",
       "      <td>...</td>\n",
       "      <td>1-3 years</td>\n",
       "      <td>Monthly</td>\n",
       "      <td>20%-30%</td>\n",
       "      <td>Mutual Fund</td>\n",
       "      <td>Retirement Plan</td>\n",
       "      <td>Capital Appreciation</td>\n",
       "      <td>Better Returns</td>\n",
       "      <td>Safe Investment</td>\n",
       "      <td>Fixed Returns</td>\n",
       "      <td>Newspapers and Magazines</td>\n",
       "    </tr>\n",
       "    <tr>\n",
       "      <th>1</th>\n",
       "      <td>Female</td>\n",
       "      <td>23</td>\n",
       "      <td>Yes</td>\n",
       "      <td>4</td>\n",
       "      <td>3</td>\n",
       "      <td>2</td>\n",
       "      <td>1</td>\n",
       "      <td>5</td>\n",
       "      <td>6</td>\n",
       "      <td>7</td>\n",
       "      <td>...</td>\n",
       "      <td>More than 5 years</td>\n",
       "      <td>Weekly</td>\n",
       "      <td>20%-30%</td>\n",
       "      <td>Mutual Fund</td>\n",
       "      <td>Health Care</td>\n",
       "      <td>Dividend</td>\n",
       "      <td>Better Returns</td>\n",
       "      <td>Safe Investment</td>\n",
       "      <td>High Interest Rates</td>\n",
       "      <td>Financial Consultants</td>\n",
       "    </tr>\n",
       "    <tr>\n",
       "      <th>2</th>\n",
       "      <td>Male</td>\n",
       "      <td>30</td>\n",
       "      <td>Yes</td>\n",
       "      <td>3</td>\n",
       "      <td>6</td>\n",
       "      <td>4</td>\n",
       "      <td>2</td>\n",
       "      <td>5</td>\n",
       "      <td>1</td>\n",
       "      <td>7</td>\n",
       "      <td>...</td>\n",
       "      <td>3-5 years</td>\n",
       "      <td>Daily</td>\n",
       "      <td>20%-30%</td>\n",
       "      <td>Equity</td>\n",
       "      <td>Retirement Plan</td>\n",
       "      <td>Capital Appreciation</td>\n",
       "      <td>Tax Benefits</td>\n",
       "      <td>Assured Returns</td>\n",
       "      <td>Fixed Returns</td>\n",
       "      <td>Television</td>\n",
       "    </tr>\n",
       "    <tr>\n",
       "      <th>3</th>\n",
       "      <td>Male</td>\n",
       "      <td>22</td>\n",
       "      <td>Yes</td>\n",
       "      <td>2</td>\n",
       "      <td>1</td>\n",
       "      <td>3</td>\n",
       "      <td>7</td>\n",
       "      <td>6</td>\n",
       "      <td>4</td>\n",
       "      <td>5</td>\n",
       "      <td>...</td>\n",
       "      <td>Less than 1 year</td>\n",
       "      <td>Daily</td>\n",
       "      <td>10%-20%</td>\n",
       "      <td>Equity</td>\n",
       "      <td>Retirement Plan</td>\n",
       "      <td>Dividend</td>\n",
       "      <td>Fund Diversification</td>\n",
       "      <td>Tax Incentives</td>\n",
       "      <td>High Interest Rates</td>\n",
       "      <td>Internet</td>\n",
       "    </tr>\n",
       "    <tr>\n",
       "      <th>4</th>\n",
       "      <td>Female</td>\n",
       "      <td>24</td>\n",
       "      <td>No</td>\n",
       "      <td>2</td>\n",
       "      <td>1</td>\n",
       "      <td>3</td>\n",
       "      <td>6</td>\n",
       "      <td>4</td>\n",
       "      <td>5</td>\n",
       "      <td>7</td>\n",
       "      <td>...</td>\n",
       "      <td>Less than 1 year</td>\n",
       "      <td>Daily</td>\n",
       "      <td>20%-30%</td>\n",
       "      <td>Equity</td>\n",
       "      <td>Retirement Plan</td>\n",
       "      <td>Capital Appreciation</td>\n",
       "      <td>Better Returns</td>\n",
       "      <td>Safe Investment</td>\n",
       "      <td>Risk Free</td>\n",
       "      <td>Internet</td>\n",
       "    </tr>\n",
       "  </tbody>\n",
       "</table>\n",
       "<p>5 rows × 24 columns</p>\n",
       "</div>"
      ],
      "text/plain": [
       "   gender  age Investment_Avenues  Mutual_Funds  Equity_Market  Debentures  \\\n",
       "0  Female   34                Yes             1              2           5   \n",
       "1  Female   23                Yes             4              3           2   \n",
       "2    Male   30                Yes             3              6           4   \n",
       "3    Male   22                Yes             2              1           3   \n",
       "4  Female   24                 No             2              1           3   \n",
       "\n",
       "   Government_Bonds  Fixed_Deposits  PPF  Gold  ...           Duration  \\\n",
       "0                 3               7    6     4  ...          1-3 years   \n",
       "1                 1               5    6     7  ...  More than 5 years   \n",
       "2                 2               5    1     7  ...          3-5 years   \n",
       "3                 7               6    4     5  ...   Less than 1 year   \n",
       "4                 6               4    5     7  ...   Less than 1 year   \n",
       "\n",
       "  Invest_Monitor   Expect       Avenue What are your savings objectives?  \\\n",
       "0        Monthly  20%-30%  Mutual Fund                   Retirement Plan   \n",
       "1         Weekly  20%-30%  Mutual Fund                       Health Care   \n",
       "2          Daily  20%-30%       Equity                   Retirement Plan   \n",
       "3          Daily  10%-20%       Equity                   Retirement Plan   \n",
       "4          Daily  20%-30%       Equity                   Retirement Plan   \n",
       "\n",
       "          Reason_Equity         Reason_Mutual     Reason_Bonds  \\\n",
       "0  Capital Appreciation        Better Returns  Safe Investment   \n",
       "1              Dividend        Better Returns  Safe Investment   \n",
       "2  Capital Appreciation          Tax Benefits  Assured Returns   \n",
       "3              Dividend  Fund Diversification   Tax Incentives   \n",
       "4  Capital Appreciation        Better Returns  Safe Investment   \n",
       "\n",
       "             Reason_FD                    Source  \n",
       "0        Fixed Returns  Newspapers and Magazines  \n",
       "1  High Interest Rates     Financial Consultants  \n",
       "2        Fixed Returns                Television  \n",
       "3  High Interest Rates                  Internet  \n",
       "4            Risk Free                  Internet  \n",
       "\n",
       "[5 rows x 24 columns]"
      ]
     },
     "execution_count": 2,
     "metadata": {},
     "output_type": "execute_result"
    }
   ],
   "source": [
    "data = pd.read_csv(r'C:\\Users\\rutto\\OneDrive\\Desktop\\fin_connect\\fin_connect\\ml\\experiment\\Finance_data.csv')\n",
    "data.head()"
   ]
  },
  {
   "cell_type": "code",
   "execution_count": 3,
   "metadata": {},
   "outputs": [
    {
     "data": {
      "text/plain": [
       "Index(['gender', 'age', 'Investment_Avenues', 'Mutual_Funds', 'Equity_Market',\n",
       "       'Debentures', 'Government_Bonds', 'Fixed_Deposits', 'PPF', 'Gold',\n",
       "       'Stock_Marktet', 'Factor', 'Objective', 'Purpose', 'Duration',\n",
       "       'Invest_Monitor', 'Expect', 'Avenue',\n",
       "       'What are your savings objectives?', 'Reason_Equity', 'Reason_Mutual',\n",
       "       'Reason_Bonds', 'Reason_FD', 'Source'],\n",
       "      dtype='object')"
      ]
     },
     "execution_count": 3,
     "metadata": {},
     "output_type": "execute_result"
    }
   ],
   "source": [
    "data.columns"
   ]
  },
  {
   "cell_type": "code",
   "execution_count": 4,
   "metadata": {},
   "outputs": [
    {
     "data": {
      "text/html": [
       "<div>\n",
       "<style scoped>\n",
       "    .dataframe tbody tr th:only-of-type {\n",
       "        vertical-align: middle;\n",
       "    }\n",
       "\n",
       "    .dataframe tbody tr th {\n",
       "        vertical-align: top;\n",
       "    }\n",
       "\n",
       "    .dataframe thead th {\n",
       "        text-align: right;\n",
       "    }\n",
       "</style>\n",
       "<table border=\"1\" class=\"dataframe\">\n",
       "  <thead>\n",
       "    <tr style=\"text-align: right;\">\n",
       "      <th></th>\n",
       "      <th>gender</th>\n",
       "      <th>age</th>\n",
       "      <th>Investment_Avenues</th>\n",
       "      <th>Mutual_Funds</th>\n",
       "      <th>Equity_Market</th>\n",
       "      <th>Debentures</th>\n",
       "      <th>Government_Bonds</th>\n",
       "      <th>Fixed_Deposits</th>\n",
       "      <th>PPF</th>\n",
       "      <th>Gold</th>\n",
       "      <th>Stock_Marktet</th>\n",
       "      <th>Duration</th>\n",
       "      <th>Expect</th>\n",
       "    </tr>\n",
       "  </thead>\n",
       "  <tbody>\n",
       "    <tr>\n",
       "      <th>0</th>\n",
       "      <td>Female</td>\n",
       "      <td>34</td>\n",
       "      <td>Yes</td>\n",
       "      <td>1</td>\n",
       "      <td>2</td>\n",
       "      <td>5</td>\n",
       "      <td>3</td>\n",
       "      <td>7</td>\n",
       "      <td>6</td>\n",
       "      <td>4</td>\n",
       "      <td>Yes</td>\n",
       "      <td>1-3 years</td>\n",
       "      <td>20%-30%</td>\n",
       "    </tr>\n",
       "    <tr>\n",
       "      <th>1</th>\n",
       "      <td>Female</td>\n",
       "      <td>23</td>\n",
       "      <td>Yes</td>\n",
       "      <td>4</td>\n",
       "      <td>3</td>\n",
       "      <td>2</td>\n",
       "      <td>1</td>\n",
       "      <td>5</td>\n",
       "      <td>6</td>\n",
       "      <td>7</td>\n",
       "      <td>No</td>\n",
       "      <td>More than 5 years</td>\n",
       "      <td>20%-30%</td>\n",
       "    </tr>\n",
       "    <tr>\n",
       "      <th>2</th>\n",
       "      <td>Male</td>\n",
       "      <td>30</td>\n",
       "      <td>Yes</td>\n",
       "      <td>3</td>\n",
       "      <td>6</td>\n",
       "      <td>4</td>\n",
       "      <td>2</td>\n",
       "      <td>5</td>\n",
       "      <td>1</td>\n",
       "      <td>7</td>\n",
       "      <td>Yes</td>\n",
       "      <td>3-5 years</td>\n",
       "      <td>20%-30%</td>\n",
       "    </tr>\n",
       "    <tr>\n",
       "      <th>3</th>\n",
       "      <td>Male</td>\n",
       "      <td>22</td>\n",
       "      <td>Yes</td>\n",
       "      <td>2</td>\n",
       "      <td>1</td>\n",
       "      <td>3</td>\n",
       "      <td>7</td>\n",
       "      <td>6</td>\n",
       "      <td>4</td>\n",
       "      <td>5</td>\n",
       "      <td>Yes</td>\n",
       "      <td>Less than 1 year</td>\n",
       "      <td>10%-20%</td>\n",
       "    </tr>\n",
       "    <tr>\n",
       "      <th>4</th>\n",
       "      <td>Female</td>\n",
       "      <td>24</td>\n",
       "      <td>No</td>\n",
       "      <td>2</td>\n",
       "      <td>1</td>\n",
       "      <td>3</td>\n",
       "      <td>6</td>\n",
       "      <td>4</td>\n",
       "      <td>5</td>\n",
       "      <td>7</td>\n",
       "      <td>No</td>\n",
       "      <td>Less than 1 year</td>\n",
       "      <td>20%-30%</td>\n",
       "    </tr>\n",
       "  </tbody>\n",
       "</table>\n",
       "</div>"
      ],
      "text/plain": [
       "   gender  age Investment_Avenues  Mutual_Funds  Equity_Market  Debentures  \\\n",
       "0  Female   34                Yes             1              2           5   \n",
       "1  Female   23                Yes             4              3           2   \n",
       "2    Male   30                Yes             3              6           4   \n",
       "3    Male   22                Yes             2              1           3   \n",
       "4  Female   24                 No             2              1           3   \n",
       "\n",
       "   Government_Bonds  Fixed_Deposits  PPF  Gold Stock_Marktet  \\\n",
       "0                 3               7    6     4           Yes   \n",
       "1                 1               5    6     7            No   \n",
       "2                 2               5    1     7           Yes   \n",
       "3                 7               6    4     5           Yes   \n",
       "4                 6               4    5     7            No   \n",
       "\n",
       "            Duration   Expect  \n",
       "0          1-3 years  20%-30%  \n",
       "1  More than 5 years  20%-30%  \n",
       "2          3-5 years  20%-30%  \n",
       "3   Less than 1 year  10%-20%  \n",
       "4   Less than 1 year  20%-30%  "
      ]
     },
     "execution_count": 4,
     "metadata": {},
     "output_type": "execute_result"
    }
   ],
   "source": [
    "columns_to_drop = [\n",
    "    'Factor', 'Objective', 'Purpose', 'Invest_Monitor', 'Avenue', \n",
    "    'What are your savings objectives?', 'Reason_Equity', \n",
    "    'Reason_Mutual', 'Reason_Bonds', 'Reason_FD', 'Source'\n",
    "]\n",
    "\n",
    "data.drop(columns=columns_to_drop, inplace=True)\n",
    "\n",
    "data.head()"
   ]
  },
  {
   "cell_type": "code",
   "execution_count": 6,
   "metadata": {},
   "outputs": [
    {
     "data": {
      "text/plain": [
       "Index(['gender', 'age', 'Investment_Avenues', 'Mutual_Funds', 'Equity_Market',\n",
       "       'Debentures', 'Government_Bonds', 'Fixed_Deposits', 'PPF', 'Gold',\n",
       "       'Stock_Marktet', 'Duration', 'Expect'],\n",
       "      dtype='object')"
      ]
     },
     "execution_count": 6,
     "metadata": {},
     "output_type": "execute_result"
    }
   ],
   "source": [
    "data.columns"
   ]
  },
  {
   "cell_type": "code",
   "execution_count": 7,
   "metadata": {},
   "outputs": [
    {
     "name": "stdout",
     "output_type": "stream",
     "text": [
      "<class 'pandas.core.frame.DataFrame'>\n",
      "RangeIndex: 40 entries, 0 to 39\n",
      "Data columns (total 13 columns):\n",
      " #   Column              Non-Null Count  Dtype \n",
      "---  ------              --------------  ----- \n",
      " 0   gender              40 non-null     object\n",
      " 1   age                 40 non-null     int64 \n",
      " 2   Investment_Avenues  40 non-null     object\n",
      " 3   Mutual_Funds        40 non-null     int64 \n",
      " 4   Equity_Market       40 non-null     int64 \n",
      " 5   Debentures          40 non-null     int64 \n",
      " 6   Government_Bonds    40 non-null     int64 \n",
      " 7   Fixed_Deposits      40 non-null     int64 \n",
      " 8   PPF                 40 non-null     int64 \n",
      " 9   Gold                40 non-null     int64 \n",
      " 10  Stock_Marktet       40 non-null     object\n",
      " 11  Duration            40 non-null     object\n",
      " 12  Expect              40 non-null     object\n",
      "dtypes: int64(8), object(5)\n",
      "memory usage: 4.2+ KB\n"
     ]
    }
   ],
   "source": [
    "data.info()"
   ]
  },
  {
   "cell_type": "code",
   "execution_count": 8,
   "metadata": {},
   "outputs": [
    {
     "data": {
      "text/html": [
       "<div>\n",
       "<style scoped>\n",
       "    .dataframe tbody tr th:only-of-type {\n",
       "        vertical-align: middle;\n",
       "    }\n",
       "\n",
       "    .dataframe tbody tr th {\n",
       "        vertical-align: top;\n",
       "    }\n",
       "\n",
       "    .dataframe thead th {\n",
       "        text-align: right;\n",
       "    }\n",
       "</style>\n",
       "<table border=\"1\" class=\"dataframe\">\n",
       "  <thead>\n",
       "    <tr style=\"text-align: right;\">\n",
       "      <th></th>\n",
       "      <th>age</th>\n",
       "      <th>Mutual_Funds</th>\n",
       "      <th>Equity_Market</th>\n",
       "      <th>Debentures</th>\n",
       "      <th>Government_Bonds</th>\n",
       "      <th>Fixed_Deposits</th>\n",
       "      <th>PPF</th>\n",
       "      <th>Gold</th>\n",
       "    </tr>\n",
       "  </thead>\n",
       "  <tbody>\n",
       "    <tr>\n",
       "      <th>count</th>\n",
       "      <td>40.000000</td>\n",
       "      <td>40.000000</td>\n",
       "      <td>40.000000</td>\n",
       "      <td>40.000000</td>\n",
       "      <td>40.000000</td>\n",
       "      <td>40.000000</td>\n",
       "      <td>40.000000</td>\n",
       "      <td>40.000000</td>\n",
       "    </tr>\n",
       "    <tr>\n",
       "      <th>mean</th>\n",
       "      <td>27.800000</td>\n",
       "      <td>2.550000</td>\n",
       "      <td>3.475000</td>\n",
       "      <td>5.750000</td>\n",
       "      <td>4.650000</td>\n",
       "      <td>3.575000</td>\n",
       "      <td>2.025000</td>\n",
       "      <td>5.975000</td>\n",
       "    </tr>\n",
       "    <tr>\n",
       "      <th>std</th>\n",
       "      <td>3.560467</td>\n",
       "      <td>1.197219</td>\n",
       "      <td>1.131994</td>\n",
       "      <td>1.675617</td>\n",
       "      <td>1.369072</td>\n",
       "      <td>1.795828</td>\n",
       "      <td>1.609069</td>\n",
       "      <td>1.143263</td>\n",
       "    </tr>\n",
       "    <tr>\n",
       "      <th>min</th>\n",
       "      <td>21.000000</td>\n",
       "      <td>1.000000</td>\n",
       "      <td>1.000000</td>\n",
       "      <td>1.000000</td>\n",
       "      <td>1.000000</td>\n",
       "      <td>1.000000</td>\n",
       "      <td>1.000000</td>\n",
       "      <td>2.000000</td>\n",
       "    </tr>\n",
       "    <tr>\n",
       "      <th>25%</th>\n",
       "      <td>25.750000</td>\n",
       "      <td>2.000000</td>\n",
       "      <td>3.000000</td>\n",
       "      <td>5.000000</td>\n",
       "      <td>4.000000</td>\n",
       "      <td>2.750000</td>\n",
       "      <td>1.000000</td>\n",
       "      <td>6.000000</td>\n",
       "    </tr>\n",
       "    <tr>\n",
       "      <th>50%</th>\n",
       "      <td>27.000000</td>\n",
       "      <td>2.000000</td>\n",
       "      <td>4.000000</td>\n",
       "      <td>6.500000</td>\n",
       "      <td>5.000000</td>\n",
       "      <td>3.500000</td>\n",
       "      <td>1.000000</td>\n",
       "      <td>6.000000</td>\n",
       "    </tr>\n",
       "    <tr>\n",
       "      <th>75%</th>\n",
       "      <td>30.000000</td>\n",
       "      <td>3.000000</td>\n",
       "      <td>4.000000</td>\n",
       "      <td>7.000000</td>\n",
       "      <td>5.000000</td>\n",
       "      <td>5.000000</td>\n",
       "      <td>2.250000</td>\n",
       "      <td>7.000000</td>\n",
       "    </tr>\n",
       "    <tr>\n",
       "      <th>max</th>\n",
       "      <td>35.000000</td>\n",
       "      <td>7.000000</td>\n",
       "      <td>6.000000</td>\n",
       "      <td>7.000000</td>\n",
       "      <td>7.000000</td>\n",
       "      <td>7.000000</td>\n",
       "      <td>6.000000</td>\n",
       "      <td>7.000000</td>\n",
       "    </tr>\n",
       "  </tbody>\n",
       "</table>\n",
       "</div>"
      ],
      "text/plain": [
       "             age  Mutual_Funds  Equity_Market  Debentures  Government_Bonds  \\\n",
       "count  40.000000     40.000000      40.000000   40.000000         40.000000   \n",
       "mean   27.800000      2.550000       3.475000    5.750000          4.650000   \n",
       "std     3.560467      1.197219       1.131994    1.675617          1.369072   \n",
       "min    21.000000      1.000000       1.000000    1.000000          1.000000   \n",
       "25%    25.750000      2.000000       3.000000    5.000000          4.000000   \n",
       "50%    27.000000      2.000000       4.000000    6.500000          5.000000   \n",
       "75%    30.000000      3.000000       4.000000    7.000000          5.000000   \n",
       "max    35.000000      7.000000       6.000000    7.000000          7.000000   \n",
       "\n",
       "       Fixed_Deposits        PPF       Gold  \n",
       "count       40.000000  40.000000  40.000000  \n",
       "mean         3.575000   2.025000   5.975000  \n",
       "std          1.795828   1.609069   1.143263  \n",
       "min          1.000000   1.000000   2.000000  \n",
       "25%          2.750000   1.000000   6.000000  \n",
       "50%          3.500000   1.000000   6.000000  \n",
       "75%          5.000000   2.250000   7.000000  \n",
       "max          7.000000   6.000000   7.000000  "
      ]
     },
     "execution_count": 8,
     "metadata": {},
     "output_type": "execute_result"
    }
   ],
   "source": [
    "data.describe()"
   ]
  },
  {
   "cell_type": "code",
   "execution_count": 9,
   "metadata": {},
   "outputs": [
    {
     "data": {
      "text/plain": [
       "gender                0\n",
       "age                   0\n",
       "Investment_Avenues    0\n",
       "Mutual_Funds          0\n",
       "Equity_Market         0\n",
       "Debentures            0\n",
       "Government_Bonds      0\n",
       "Fixed_Deposits        0\n",
       "PPF                   0\n",
       "Gold                  0\n",
       "Stock_Marktet         0\n",
       "Duration              0\n",
       "Expect                0\n",
       "dtype: int64"
      ]
     },
     "execution_count": 9,
     "metadata": {},
     "output_type": "execute_result"
    }
   ],
   "source": [
    "data.isnull().sum()"
   ]
  },
  {
   "cell_type": "code",
   "execution_count": 11,
   "metadata": {},
   "outputs": [
    {
     "data": {
      "text/plain": [
       "(40, 13)"
      ]
     },
     "execution_count": 11,
     "metadata": {},
     "output_type": "execute_result"
    }
   ],
   "source": [
    "data.shape"
   ]
  },
  {
   "cell_type": "code",
   "execution_count": 12,
   "metadata": {},
   "outputs": [
    {
     "data": {
      "text/plain": [
       "Index(['gender', 'Investment_Avenues', 'Stock_Marktet', 'Duration', 'Expect'], dtype='object')"
      ]
     },
     "execution_count": 12,
     "metadata": {},
     "output_type": "execute_result"
    }
   ],
   "source": [
    "# data segragation into numerical and categorical \n",
    "\n",
    "cat_columns = data.columns[data.dtypes =='object']\n",
    "cat_columns"
   ]
  },
  {
   "cell_type": "code",
   "execution_count": 13,
   "metadata": {},
   "outputs": [
    {
     "data": {
      "text/plain": [
       "Index(['age', 'Mutual_Funds', 'Equity_Market', 'Debentures',\n",
       "       'Government_Bonds', 'Fixed_Deposits', 'PPF', 'Gold'],\n",
       "      dtype='object')"
      ]
     },
     "execution_count": 13,
     "metadata": {},
     "output_type": "execute_result"
    }
   ],
   "source": [
    "num_columns = data.columns[data.dtypes!='object']\n",
    "num_columns\n"
   ]
  },
  {
   "cell_type": "code",
   "execution_count": 14,
   "metadata": {},
   "outputs": [
    {
     "data": {
      "text/plain": [
       "array([[<Axes: title={'center': 'age'}>,\n",
       "        <Axes: title={'center': 'Mutual_Funds'}>,\n",
       "        <Axes: title={'center': 'Equity_Market'}>],\n",
       "       [<Axes: title={'center': 'Debentures'}>,\n",
       "        <Axes: title={'center': 'Government_Bonds'}>,\n",
       "        <Axes: title={'center': 'Fixed_Deposits'}>],\n",
       "       [<Axes: title={'center': 'PPF'}>,\n",
       "        <Axes: title={'center': 'Gold'}>, <Axes: >]], dtype=object)"
      ]
     },
     "execution_count": 14,
     "metadata": {},
     "output_type": "execute_result"
    },
    {
     "data": {
      "image/png": "[encoded data removed]",
      "text/plain": [
       "<Figure size 1000x1000 with 9 Axes>"
      ]
     },
     "metadata": {},
     "output_type": "display_data"
    }
   ],
   "source": [
    "data[num_columns].hist(figsize=(10,10))"
   ]
  },
  {
   "cell_type": "code",
   "execution_count": 15,
   "metadata": {},
   "outputs": [
    {
     "data": {
      "text/plain": [
       "<Axes: >"
      ]
     },
     "execution_count": 15,
     "metadata": {},
     "output_type": "execute_result"
    },
    {
     "data": {
      "image/png": "[encoded data removed]",
      "text/plain": [
       "<Figure size 640x480 with 2 Axes>"
      ]
     },
     "metadata": {},
     "output_type": "display_data"
    }
   ],
   "source": [
    "sns.heatmap(data[num_columns].corr(), annot=True, cmap='coolwarm')"
   ]
  },
  {
   "cell_type": "code",
   "execution_count": 17,
   "metadata": {},
   "outputs": [],
   "source": [
    "from sklearn.preprocessing import LabelEncoder\n",
    "from sklearn.linear_model import LinearRegression\n",
    "from sklearn.metrics import mean_squared_error, r2_score"
   ]
  },
  {
   "cell_type": "code",
   "execution_count": 19,
   "metadata": {},
   "outputs": [],
   "source": [
    "label_encoder = LabelEncoder()\n",
    "data['gender'] = label_encoder.fit_transform(data['gender'])\n",
    "data['Investment_Avenues'] = label_encoder.fit_transform(data['Investment_Avenues'])\n",
    "data['Stock_Marktet'] = label_encoder.fit_transform(data['Stock_Marktet'])\n",
    "\n",
    "data = pd.get_dummies(data, columns=['Duration'], drop_first=True)"
   ]
  },
  {
   "cell_type": "code",
   "execution_count": 20,
   "metadata": {},
   "outputs": [],
   "source": [
    "expect_mapping = {\n",
    "    '20%-30%': 0.25,\n",
    "    '10%-20%': 0.15,\n",
    "    '30%-40%': 0.35\n",
    "}\n",
    "data['Expect'] = data['Expect'].map(expect_mapping)"
   ]
  },
  {
   "cell_type": "code",
   "execution_count": 21,
   "metadata": {},
   "outputs": [],
   "source": [
    "X = data.drop('Expect', axis=1)  # Features (exclude 'Expect')\n",
    "y = data['Expect']  # Target variable 'Expect"
   ]
  },
  {
   "cell_type": "code",
   "execution_count": 25,
   "metadata": {},
   "outputs": [],
   "source": [
    "X_train, X_test, y_train, y_test = train_test_split(X, y, test_size=0.2, random_state=42)"
   ]
  },
  {
   "cell_type": "code",
   "execution_count": 26,
   "metadata": {},
   "outputs": [
    {
     "name": "stdout",
     "output_type": "stream",
     "text": [
      "Mean Squared Error: 0.009647893536905972\n",
      "R^2 Score: -7.820931233742607\n"
     ]
    },
    {
     "data": {
      "image/png": "[encoded data removed]",
      "text/plain": [
       "<Figure size 640x480 with 1 Axes>"
      ]
     },
     "metadata": {},
     "output_type": "display_data"
    }
   ],
   "source": [
    "model = LinearRegression()\n",
    "\n",
    "# Train the model\n",
    "\n",
    "model.fit(X_train, y_train)\n",
    "\n",
    "# Predict the target variable for the test set\n",
    "y_pred = model.predict(X_test)\n",
    "\n",
    "# Evaluate the model\n",
    "mse = mean_squared_error(y_test, y_pred)\n",
    "r2 = r2_score(y_test, y_pred)\n",
    "\n",
    "print(f\"Mean Squared Error: {mse}\")\n",
    "print(f\"R^2 Score: {r2}\")\n",
    "\n",
    "# Plot the predictions against the actual values\n",
    "\n",
    "plt.scatter(y_test, y_pred)\n",
    "plt.xlabel(\"Actual Expect\")\n",
    "plt.ylabel(\"Predicted Expect\")\n",
    "plt.title(\"Linear Regression Model\")\n",
    "plt.show()"
   ]
  }
 ],
 "metadata": {
  "kernelspec": {
   "display_name": "env",
   "language": "python",
   "name": "python3"
  },
  "language_info": {
   "codemirror_mode": {
    "name": "ipython",
    "version": 3
   },
   "file_extension": ".py",
   "mimetype": "text/x-python",
   "name": "python",
   "nbconvert_exporter": "python",
   "pygments_lexer": "ipython3",
   "version": "3.12.6"
  }
 },
 "nbformat": 4,
 "nbformat_minor": 2
}
